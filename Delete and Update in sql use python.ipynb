{
 "cells": [
  {
   "cell_type": "markdown",
   "id": "3c06090c",
   "metadata": {},
   "source": [
    "Deleting a somthing from a table"
   ]
  },
  {
   "cell_type": "code",
   "execution_count": 1,
   "id": "4e9df047",
   "metadata": {},
   "outputs": [],
   "source": [
    "import mysql.connector as connection"
   ]
  },
  {
   "cell_type": "code",
   "execution_count": 2,
   "id": "b487a149",
   "metadata": {},
   "outputs": [],
   "source": [
    "mydb = connection.connect(host=\"localhost\",database= 'khan1',user=\"root\", passwd=\"mysql123\",use_pure=True)"
   ]
  },
  {
   "cell_type": "code",
   "execution_count": 3,
   "id": "a3490350",
   "metadata": {},
   "outputs": [
    {
     "data": {
      "text/plain": [
       "True"
      ]
     },
     "execution_count": 3,
     "metadata": {},
     "output_type": "execute_result"
    }
   ],
   "source": [
    "mydb.is_connected()"
   ]
  },
  {
   "cell_type": "code",
   "execution_count": 4,
   "id": "7b6f3aa2",
   "metadata": {},
   "outputs": [],
   "source": [
    "query = \"DELETE FROM khan1 WHERE X1=2223\""
   ]
  },
  {
   "cell_type": "code",
   "execution_count": 5,
   "id": "60107c13",
   "metadata": {},
   "outputs": [],
   "source": [
    "cursor = mydb.cursor()"
   ]
  },
  {
   "cell_type": "code",
   "execution_count": 6,
   "id": "11d30357",
   "metadata": {},
   "outputs": [],
   "source": [
    "cursor.execute(query)"
   ]
  },
  {
   "cell_type": "code",
   "execution_count": 7,
   "id": "9bb42264",
   "metadata": {},
   "outputs": [],
   "source": [
    "mydb.commit()"
   ]
  },
  {
   "cell_type": "markdown",
   "id": "1af4209f",
   "metadata": {},
   "source": [
    "Updating a Table"
   ]
  },
  {
   "cell_type": "code",
   "execution_count": 8,
   "id": "531bb136",
   "metadata": {},
   "outputs": [],
   "source": [
    "mydb = connection.connect(host=\"localhost\",database= 'khan1',user=\"root\", passwd=\"mysql123\",use_pure=True)"
   ]
  },
  {
   "cell_type": "code",
   "execution_count": 9,
   "id": "3ccb6e5c",
   "metadata": {},
   "outputs": [],
   "source": [
    "cur = mydb.cursor()"
   ]
  },
  {
   "cell_type": "code",
   "execution_count": 10,
   "id": "e4acbd6b",
   "metadata": {},
   "outputs": [],
   "source": [
    "cur.execute(\"insert into khan1 values(2223,'shayan','2022.11.17')\")#yyyy.mm.dd"
   ]
  },
  {
   "cell_type": "code",
   "execution_count": 11,
   "id": "4c80c1e7",
   "metadata": {},
   "outputs": [],
   "source": [
    "mydb.commit()"
   ]
  },
  {
   "cell_type": "code",
   "execution_count": 12,
   "id": "bf7455a6",
   "metadata": {},
   "outputs": [],
   "source": [
    "cur = mydb.cursor()"
   ]
  },
  {
   "cell_type": "code",
   "execution_count": 13,
   "id": "62920732",
   "metadata": {},
   "outputs": [],
   "source": [
    "out = cur.execute(\"select * from khan1\")"
   ]
  },
  {
   "cell_type": "code",
   "execution_count": 14,
   "id": "9712608d",
   "metadata": {},
   "outputs": [
    {
     "data": {
      "text/plain": [
       "[(2223, 'shayan', datetime.date(2022, 11, 17))]"
      ]
     },
     "execution_count": 14,
     "metadata": {},
     "output_type": "execute_result"
    }
   ],
   "source": [
    "cur.fetchall()"
   ]
  },
  {
   "cell_type": "code",
   "execution_count": 15,
   "id": "e746bc6a",
   "metadata": {},
   "outputs": [],
   "source": [
    "#now update it"
   ]
  },
  {
   "cell_type": "code",
   "execution_count": 16,
   "id": "4a5baebe",
   "metadata": {},
   "outputs": [],
   "source": [
    "query = \"UPDATE khan1 SET x1=3, x2= 'shayan' WHERE x1 = 2223\""
   ]
  },
  {
   "cell_type": "code",
   "execution_count": 17,
   "id": "b5fb29cf",
   "metadata": {},
   "outputs": [],
   "source": [
    "cursor = mydb.cursor()"
   ]
  },
  {
   "cell_type": "code",
   "execution_count": 18,
   "id": "78399795",
   "metadata": {},
   "outputs": [],
   "source": [
    "cursor.execute(query)\n",
    "mydb.commit()"
   ]
  },
  {
   "cell_type": "code",
   "execution_count": null,
   "id": "1f489054",
   "metadata": {},
   "outputs": [],
   "source": []
  },
  {
   "cell_type": "code",
   "execution_count": null,
   "id": "825f82c2",
   "metadata": {},
   "outputs": [],
   "source": []
  }
 ],
 "metadata": {
  "kernelspec": {
   "display_name": "Python 3 (ipykernel)",
   "language": "python",
   "name": "python3"
  },
  "language_info": {
   "codemirror_mode": {
    "name": "ipython",
    "version": 3
   },
   "file_extension": ".py",
   "mimetype": "text/x-python",
   "name": "python",
   "nbconvert_exporter": "python",
   "pygments_lexer": "ipython3",
   "version": "3.9.12"
  }
 },
 "nbformat": 4,
 "nbformat_minor": 5
}
